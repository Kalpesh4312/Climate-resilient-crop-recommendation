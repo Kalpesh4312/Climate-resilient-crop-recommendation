{
  "nbformat": 4,
  "nbformat_minor": 0,
  "metadata": {
    "colab": {
      "provenance": []
    },
    "kernelspec": {
      "name": "python3",
      "display_name": "Python 3"
    },
    "language_info": {
      "name": "python"
    }
  },
  "cells": [
    {
      "cell_type": "code",
      "source": [
        "# 🌿 Climate-Resilient Crop Recommendation - Full ETL + Preprocessing (No Train/Test Split)\n",
        "\n",
        "import pandas as pd\n",
        "import numpy as np\n",
        "from sklearn.preprocessing import LabelEncoder, StandardScaler, MinMaxScaler\n",
        "from scipy import stats\n",
        "\n",
        "# -------------------------\n",
        "# 1. Extract (Load Data)\n",
        "# -------------------------\n",
        "df = pd.read_csv(\"Crop_recommendation.csv\")\n",
        "\n",
        "print(\"🔹 Dataset Shape:\", df.shape)\n",
        "print(\"🔹 Columns:\", df.columns.tolist())\n",
        "print(\"\\n🔹 First 5 rows:\\n\", df.head())\n"
      ],
      "metadata": {
        "colab": {
          "base_uri": "https://localhost:8080/"
        },
        "id": "QN25Yb7kO3nc",
        "outputId": "432079e0-da8e-4aed-c846-f1da1c72023c"
      },
      "execution_count": 9,
      "outputs": [
        {
          "output_type": "stream",
          "name": "stdout",
          "text": [
            "🔹 Dataset Shape: (2200, 8)\n",
            "🔹 Columns: ['N', 'P', 'K', 'temperature', 'humidity', 'ph', 'rainfall', 'label']\n",
            "\n",
            "🔹 First 5 rows:\n",
            "     N   P   K  temperature   humidity        ph    rainfall label\n",
            "0  90  42  43    20.879744  82.002744  6.502985  202.935536  rice\n",
            "1  85  58  41    21.770462  80.319644  7.038096  226.655537  rice\n",
            "2  60  55  44    23.004459  82.320763  7.840207  263.964248  rice\n",
            "3  74  35  40    26.491096  80.158363  6.980401  242.864034  rice\n",
            "4  78  42  42    20.130175  81.604873  7.628473  262.717340  rice\n"
          ]
        }
      ]
    },
    {
      "cell_type": "code",
      "source": [
        "# -------------------------\n",
        "# 2. Transform (Cleaning)\n",
        "# -------------------------\n",
        "\n",
        "# (a) Handle missing values\n",
        "print(\"\\nMissing values:\\n\", df.isnull().sum())\n",
        "df = df.dropna()   # just in case\n",
        "\n",
        "# (b) Remove duplicates\n",
        "dup_count = df.duplicated().sum()\n",
        "print(\"\\nDuplicate rows:\", dup_count)\n",
        "if dup_count > 0:\n",
        "    df = df.drop_duplicates()\n",
        "\n",
        "# (c) Outlier Detection & Removal (Z-score method)\n",
        "numeric_cols = df.drop(\"label\", axis=1).columns\n",
        "z_scores = np.abs(stats.zscore(df[numeric_cols]))\n",
        "df = df[(z_scores < 3).all(axis=1)]  # remove extreme outliers\n",
        "\n",
        "print(\"\\nAfter outlier removal, shape:\", df.shape)"
      ],
      "metadata": {
        "colab": {
          "base_uri": "https://localhost:8080/"
        },
        "id": "wrhBC9ZMPnZr",
        "outputId": "1bfe9627-77b3-43d5-f505-69473c3b296a"
      },
      "execution_count": 10,
      "outputs": [
        {
          "output_type": "stream",
          "name": "stdout",
          "text": [
            "\n",
            "Missing values:\n",
            " N              0\n",
            "P              0\n",
            "K              0\n",
            "temperature    0\n",
            "humidity       0\n",
            "ph             0\n",
            "rainfall       0\n",
            "label          0\n",
            "dtype: int64\n",
            "\n",
            "Duplicate rows: 0\n",
            "\n",
            "After outlier removal, shape: (2029, 8)\n"
          ]
        }
      ]
    },
    {
      "cell_type": "code",
      "source": [
        "# -------------------------\n",
        "# 3. Feature Engineering\n",
        "# -------------------------\n",
        "\n",
        "# (a) Encode crop labels\n",
        "le = LabelEncoder()\n",
        "df[\"label_encoded\"] = le.fit_transform(df[\"label\"])\n",
        "\n",
        "# (b) Apply Scaling (both versions available)\n",
        "scaler_standard = StandardScaler()\n",
        "scaler_minmax = MinMaxScaler()\n",
        "\n",
        "df_standard = df.copy()\n",
        "df_standard[numeric_cols] = scaler_standard.fit_transform(df_standard[numeric_cols])\n",
        "\n",
        "df_minmax = df.copy()\n",
        "df_minmax[numeric_cols] = scaler_minmax.fit_transform(df_minmax[numeric_cols])\n",
        "\n",
        "print(\"\\n✅ Label Encoding + Scaling Done!\")\n",
        "print(\"Sample crops:\", df['label'].unique()[:5])\n",
        "print(\"Encoded labels:\", df['label_encoded'].unique()[:5])"
      ],
      "metadata": {
        "colab": {
          "base_uri": "https://localhost:8080/"
        },
        "id": "o6fP3oZyPxfW",
        "outputId": "1949cd0f-da79-4c2a-b941-d1b77b4d845b"
      },
      "execution_count": 11,
      "outputs": [
        {
          "output_type": "stream",
          "name": "stdout",
          "text": [
            "\n",
            "✅ Label Encoding + Scaling Done!\n",
            "Sample crops: ['rice' 'maize' 'chickpea' 'kidneybeans' 'pigeonpeas']\n",
            "Encoded labels: [20 11  3  9 18]\n"
          ]
        }
      ]
    },
    {
      "cell_type": "code",
      "source": [
        "# -------------------------\n",
        "# 4. Load (Save Clean Data)\n",
        "# -------------------------\n",
        "df.to_csv(\"Crop_cleaned.csv\", index=False)\n",
        "df_standard.to_csv(\"Crop_cleaned_standard_scaled.csv\", index=False)\n",
        "df_minmax.to_csv(\"Crop_cleaned_minmax_scaled.csv\", index=False)\n",
        "\n",
        "print(\"\\n📂 Preprocessed datasets saved:\")\n",
        "print(\" - Crop_cleaned.csv (raw cleaned)\")\n",
        "print(\" - Crop_cleaned_standard_scaled.csv (standard scaled)\")\n",
        "print(\" - Crop_cleaned_minmax_scaled.csv (min-max scaled)\")"
      ],
      "metadata": {
        "colab": {
          "base_uri": "https://localhost:8080/"
        },
        "id": "O0CwXMqSP2jt",
        "outputId": "fc02c298-14b4-486f-d64f-36e3e5c70b13"
      },
      "execution_count": 12,
      "outputs": [
        {
          "output_type": "stream",
          "name": "stdout",
          "text": [
            "\n",
            "📂 Preprocessed datasets saved:\n",
            " - Crop_cleaned.csv (raw cleaned)\n",
            " - Crop_cleaned_standard_scaled.csv (standard scaled)\n",
            " - Crop_cleaned_minmax_scaled.csv (min-max scaled)\n"
          ]
        }
      ]
    }
  ]
}