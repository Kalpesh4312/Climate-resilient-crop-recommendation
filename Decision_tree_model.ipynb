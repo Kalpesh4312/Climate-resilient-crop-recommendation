{
  "nbformat": 4,
  "nbformat_minor": 0,
  "metadata": {
    "colab": {
      "provenance": []
    },
    "kernelspec": {
      "name": "python3",
      "display_name": "Python 3"
    },
    "language_info": {
      "name": "python"
    }
  },
  "cells": [
    {
      "cell_type": "code",
      "execution_count": 1,
      "metadata": {
        "colab": {
          "base_uri": "https://localhost:8080/"
        },
        "id": "UXD6uvqZ88YV",
        "outputId": "2fd51917-37ec-4612-d672-e759a0ae5284"
      },
      "outputs": [
        {
          "output_type": "stream",
          "name": "stdout",
          "text": [
            "🌿 Decision Tree Evaluation\n",
            "✅ Accuracy: 0.9803\n",
            "✅ Precision: 0.9815\n",
            "\n",
            "📊 Classification Report:\n",
            "               precision    recall  f1-score   support\n",
            "\n",
            "        rice       1.00      1.00      1.00        11\n",
            "       maize       1.00      1.00      1.00        20\n",
            "    chickpea       1.00      0.95      0.97        20\n",
            " kidneybeans       1.00      1.00      1.00        19\n",
            "  pigeonpeas       1.00      1.00      1.00        20\n",
            "   mothbeans       1.00      1.00      1.00        20\n",
            "    mungbean       0.91      1.00      0.95        20\n",
            "   blackgram       1.00      1.00      1.00         9\n",
            "      lentil       1.00      0.95      0.97        20\n",
            " pomegranate       1.00      1.00      1.00        20\n",
            "      banana       1.00      0.95      0.97        20\n",
            "       mango       0.90      0.90      0.90        20\n",
            "      grapes       1.00      1.00      1.00        20\n",
            "  watermelon       0.93      0.93      0.93        15\n",
            "   muskmelon       1.00      1.00      1.00        20\n",
            "       apple       0.91      1.00      0.95        20\n",
            "      orange       1.00      1.00      1.00        19\n",
            "      papaya       1.00      1.00      1.00        17\n",
            "     coconut       1.00      1.00      1.00        20\n",
            "      cotton       1.00      1.00      1.00        20\n",
            "        jute       0.94      1.00      0.97        16\n",
            "      coffee       1.00      0.90      0.95        20\n",
            "\n",
            "    accuracy                           0.98       406\n",
            "   macro avg       0.98      0.98      0.98       406\n",
            "weighted avg       0.98      0.98      0.98       406\n",
            "\n",
            "🌱 Recommended Crop: rice\n"
          ]
        },
        {
          "output_type": "stream",
          "name": "stderr",
          "text": [
            "/usr/local/lib/python3.12/dist-packages/sklearn/utils/validation.py:2739: UserWarning: X does not have valid feature names, but DecisionTreeClassifier was fitted with feature names\n",
            "  warnings.warn(\n"
          ]
        },
        {
          "output_type": "execute_result",
          "data": {
            "text/plain": [
              "['label_encoder.pkl']"
            ]
          },
          "metadata": {},
          "execution_count": 1
        }
      ],
      "source": [
        "# 🌿 Climate-Resilient Crop Recommendation - Decision Tree Model\n",
        "\n",
        "import pandas as pd\n",
        "from sklearn.model_selection import train_test_split\n",
        "from sklearn.tree import DecisionTreeClassifier\n",
        "from sklearn.metrics import accuracy_score, classification_report, precision_score\n",
        "from sklearn.preprocessing import LabelEncoder\n",
        "\n",
        "# -------------------------\n",
        "# 1. Load Preprocessed Dataset\n",
        "# -------------------------\n",
        "df = pd.read_csv(\"Crop_cleaned.csv\")\n",
        "\n",
        "# Features and Target\n",
        "X = df.drop(columns=[\"label\", \"label_encoded\"])\n",
        "y = df[\"label_encoded\"]\n",
        "\n",
        "# -------------------------\n",
        "# 2. Train-Test Split\n",
        "# -------------------------\n",
        "X_train, X_test, y_train, y_test = train_test_split(\n",
        "    X, y, test_size=0.2, random_state=42, stratify=y\n",
        ")\n",
        "\n",
        "# -------------------------\n",
        "# 3. Train Decision Tree\n",
        "# -------------------------\n",
        "dt = DecisionTreeClassifier(\n",
        "    criterion=\"entropy\",  # you can try \"gini\" too\n",
        "    max_depth=10,        # to prevent overfitting\n",
        "    random_state=42\n",
        ")\n",
        "dt.fit(X_train, y_train)\n",
        "\n",
        "# -------------------------\n",
        "# 4. Predictions\n",
        "# -------------------------\n",
        "y_pred = dt.predict(X_test)\n",
        "\n",
        "# -------------------------\n",
        "# 5. Evaluation\n",
        "# -------------------------\n",
        "accuracy = accuracy_score(y_test, y_pred)\n",
        "precision = precision_score(y_test, y_pred, average=\"macro\")  # macro = treats all crops equally\n",
        "report = classification_report(y_test, y_pred, target_names=df[\"label\"].unique())\n",
        "\n",
        "print(\"🌿 Decision Tree Evaluation\")\n",
        "print(f\"✅ Accuracy: {accuracy:.4f}\")\n",
        "print(f\"✅ Precision: {precision:.4f}\")\n",
        "print(\"\\n📊 Classification Report:\\n\", report)\n",
        "\n",
        "# Example new input [N, P, K, temperature, humidity, ph, rainfall]\n",
        "new_sample = [[90, 42, 43, 20.0, 80.0, 6.5, 200.0]]\n",
        "\n",
        "# Predict crop\n",
        "predicted_crop_encoded = dt.predict(new_sample)[0]\n",
        "\n",
        "# Convert numeric prediction back to crop name\n",
        "import joblib\n",
        "from sklearn.preprocessing import LabelEncoder\n",
        "\n",
        "# Load your encoder (same one used during preprocessing)\n",
        "le = LabelEncoder()\n",
        "le.fit(df[\"label\"])  # trained on the original labels\n",
        "predicted_crop = le.inverse_transform([predicted_crop_encoded])[0]\n",
        "\n",
        "print(\"🌱 Recommended Crop:\", predicted_crop)\n",
        "\n",
        "import joblib\n",
        "\n",
        "# Save model\n",
        "joblib.dump(dt, \"decision_tree_model.pkl\")\n",
        "\n",
        "# Save encoder too (so you can get crop names back later)\n",
        "joblib.dump(le, \"label_encoder.pkl\")\n"
      ]
    },
    {
      "cell_type": "code",
      "source": [],
      "metadata": {
        "id": "RGjgJ_jD9CHS"
      },
      "execution_count": null,
      "outputs": []
    }
  ]
}